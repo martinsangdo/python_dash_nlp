{
 "cells": [
  {
   "cell_type": "code",
   "execution_count": 1,
   "metadata": {},
   "outputs": [],
   "source": [
    "from dash import Dash, html, dcc\n",
    "import plotly.express as px\n",
    "import pandas as pd"
   ]
  },
  {
   "cell_type": "code",
   "execution_count": 2,
   "metadata": {},
   "outputs": [],
   "source": [
    "app = Dash(__name__)\n"
   ]
  },
  {
   "cell_type": "markdown",
   "metadata": {},
   "source": [
    "Predefined phrases related to forced displacement:\n",
    "forced displacement\n",
    "forced migration\n",
    "forced moving\n",
    "irregular migration\n",
    "forced flee\n",
    "asylum\n",
    "migrant people\n",
    "evacuated\n",
    "eviction\n",
    "expulsion\n",
    "deportation\n",
    "relocation\n",
    "banishment\n",
    "exile\n",
    "displacement crisis\n",
    "refugee crisis"
   ]
  },
  {
   "cell_type": "markdown",
   "metadata": {},
   "source": [
    "Reference Dash components: https://dash.plotly.com/dash-core-components/textarea"
   ]
  },
  {
   "cell_type": "code",
   "execution_count": 11,
   "metadata": {},
   "outputs": [],
   "source": [
    "#main layout\n",
    "app.layout = html.Div(children=[\n",
    "    html.H2(children='Detect whether text content is relevant to forced displacement.'),\n",
    "    #text box of content\n",
    "    html.Div(children='Main content which is copied/extract from e-newspaper):'),\n",
    "    html.Link(children='For ex: https://www.thenewhumanitarian.org/news-feature/2024/06/19/dr-congo-war-displaced-face-rebel-shelling-militia-abuses'),\n",
    "\n",
    "    dcc.Textarea(\n",
    "        id='txt_content',\n",
    "        value='',\n",
    "        style={'width': '100%', 'height': 200},\n",
    "    ),\n",
    "    dcc.Textarea(\n",
    "        id='txt_content',\n",
    "        value='',\n",
    "        style={'width': '100%', 'height': 200},\n",
    "    ),\n",
    "\n",
    "   \n",
    "])"
   ]
  },
  {
   "cell_type": "code",
   "execution_count": 9,
   "metadata": {},
   "outputs": [
    {
     "ename": "AssertionError",
     "evalue": "The setup method 'errorhandler' can no longer be called on the application. It has already handled its first request, any changes will not be applied consistently.\nMake sure all imports, decorators, functions, etc. needed to set up the application are done before running it.",
     "output_type": "error",
     "traceback": [
      "\u001b[0;31m---------------------------------------------------------------------------\u001b[0m",
      "\u001b[0;31mAssertionError\u001b[0m                            Traceback (most recent call last)",
      "Cell \u001b[0;32mIn[9], line 4\u001b[0m\n\u001b[1;32m      2\u001b[0m \u001b[38;5;28;01mif\u001b[39;00m \u001b[38;5;18m__name__\u001b[39m \u001b[38;5;241m==\u001b[39m \u001b[38;5;124m'\u001b[39m\u001b[38;5;124m__main__\u001b[39m\u001b[38;5;124m'\u001b[39m:\n\u001b[1;32m      3\u001b[0m     app\u001b[38;5;241m.\u001b[39mtitle \u001b[38;5;241m=\u001b[39m \u001b[38;5;124m\"\u001b[39m\u001b[38;5;124mText summarization\u001b[39m\u001b[38;5;124m\"\u001b[39m\n\u001b[0;32m----> 4\u001b[0m     \u001b[43mapp\u001b[49m\u001b[38;5;241;43m.\u001b[39;49m\u001b[43mrun\u001b[49m\u001b[43m(\u001b[49m\u001b[43mdebug\u001b[49m\u001b[38;5;241;43m=\u001b[39;49m\u001b[38;5;28;43;01mTrue\u001b[39;49;00m\u001b[43m)\u001b[49m\n",
      "File \u001b[0;32m~/Library/Python/3.9/lib/python/site-packages/dash/dash.py:2099\u001b[0m, in \u001b[0;36mDash.run\u001b[0;34m(self, host, port, proxy, debug, jupyter_mode, jupyter_width, jupyter_height, jupyter_server_url, dev_tools_ui, dev_tools_props_check, dev_tools_serve_dev_bundles, dev_tools_hot_reload, dev_tools_hot_reload_interval, dev_tools_hot_reload_watch_interval, dev_tools_hot_reload_max_retry, dev_tools_silence_routes_logging, dev_tools_prune_errors, **flask_run_options)\u001b[0m\n\u001b[1;32m   2096\u001b[0m \u001b[38;5;28;01mif\u001b[39;00m debug \u001b[38;5;129;01mis\u001b[39;00m \u001b[38;5;28;01mNone\u001b[39;00m:\n\u001b[1;32m   2097\u001b[0m     debug \u001b[38;5;241m=\u001b[39m get_combined_config(\u001b[38;5;124m\"\u001b[39m\u001b[38;5;124mdebug\u001b[39m\u001b[38;5;124m\"\u001b[39m, \u001b[38;5;28;01mNone\u001b[39;00m, \u001b[38;5;28;01mFalse\u001b[39;00m)\n\u001b[0;32m-> 2099\u001b[0m debug \u001b[38;5;241m=\u001b[39m \u001b[38;5;28;43mself\u001b[39;49m\u001b[38;5;241;43m.\u001b[39;49m\u001b[43menable_dev_tools\u001b[49m\u001b[43m(\u001b[49m\n\u001b[1;32m   2100\u001b[0m \u001b[43m    \u001b[49m\u001b[43mdebug\u001b[49m\u001b[43m,\u001b[49m\n\u001b[1;32m   2101\u001b[0m \u001b[43m    \u001b[49m\u001b[43mdev_tools_ui\u001b[49m\u001b[43m,\u001b[49m\n\u001b[1;32m   2102\u001b[0m \u001b[43m    \u001b[49m\u001b[43mdev_tools_props_check\u001b[49m\u001b[43m,\u001b[49m\n\u001b[1;32m   2103\u001b[0m \u001b[43m    \u001b[49m\u001b[43mdev_tools_serve_dev_bundles\u001b[49m\u001b[43m,\u001b[49m\n\u001b[1;32m   2104\u001b[0m \u001b[43m    \u001b[49m\u001b[43mdev_tools_hot_reload\u001b[49m\u001b[43m,\u001b[49m\n\u001b[1;32m   2105\u001b[0m \u001b[43m    \u001b[49m\u001b[43mdev_tools_hot_reload_interval\u001b[49m\u001b[43m,\u001b[49m\n\u001b[1;32m   2106\u001b[0m \u001b[43m    \u001b[49m\u001b[43mdev_tools_hot_reload_watch_interval\u001b[49m\u001b[43m,\u001b[49m\n\u001b[1;32m   2107\u001b[0m \u001b[43m    \u001b[49m\u001b[43mdev_tools_hot_reload_max_retry\u001b[49m\u001b[43m,\u001b[49m\n\u001b[1;32m   2108\u001b[0m \u001b[43m    \u001b[49m\u001b[43mdev_tools_silence_routes_logging\u001b[49m\u001b[43m,\u001b[49m\n\u001b[1;32m   2109\u001b[0m \u001b[43m    \u001b[49m\u001b[43mdev_tools_prune_errors\u001b[49m\u001b[43m,\u001b[49m\n\u001b[1;32m   2110\u001b[0m \u001b[43m\u001b[49m\u001b[43m)\u001b[49m\n\u001b[1;32m   2112\u001b[0m \u001b[38;5;66;03m# Verify port value\u001b[39;00m\n\u001b[1;32m   2113\u001b[0m \u001b[38;5;28;01mtry\u001b[39;00m:\n",
      "File \u001b[0;32m~/Library/Python/3.9/lib/python/site-packages/dash/dash.py:1869\u001b[0m, in \u001b[0;36mDash.enable_dev_tools\u001b[0;34m(self, debug, dev_tools_ui, dev_tools_props_check, dev_tools_serve_dev_bundles, dev_tools_hot_reload, dev_tools_hot_reload_interval, dev_tools_hot_reload_watch_interval, dev_tools_hot_reload_max_retry, dev_tools_silence_routes_logging, dev_tools_prune_errors)\u001b[0m\n\u001b[1;32m   1867\u001b[0m \u001b[38;5;28;01mif\u001b[39;00m debug:\n\u001b[1;32m   1868\u001b[0m     \u001b[38;5;28;01mif\u001b[39;00m jupyter_dash\u001b[38;5;241m.\u001b[39mactive:\n\u001b[0;32m-> 1869\u001b[0m         \u001b[43mjupyter_dash\u001b[49m\u001b[38;5;241;43m.\u001b[39;49m\u001b[43mconfigure_callback_exception_handling\u001b[49m\u001b[43m(\u001b[49m\n\u001b[1;32m   1870\u001b[0m \u001b[43m            \u001b[49m\u001b[38;5;28;43mself\u001b[39;49m\u001b[43m,\u001b[49m\u001b[43m \u001b[49m\u001b[43mdev_tools\u001b[49m\u001b[38;5;241;43m.\u001b[39;49m\u001b[43mprune_errors\u001b[49m\n\u001b[1;32m   1871\u001b[0m \u001b[43m        \u001b[49m\u001b[43m)\u001b[49m\n\u001b[1;32m   1872\u001b[0m     \u001b[38;5;28;01melif\u001b[39;00m dev_tools\u001b[38;5;241m.\u001b[39mprune_errors:\n\u001b[1;32m   1873\u001b[0m         secret \u001b[38;5;241m=\u001b[39m gen_salt(\u001b[38;5;241m20\u001b[39m)\n",
      "File \u001b[0;32m~/Library/Python/3.9/lib/python/site-packages/dash/_jupyter.py:446\u001b[0m, in \u001b[0;36mJupyterDash.configure_callback_exception_handling\u001b[0;34m(self, app, dev_tools_prune_errors)\u001b[0m\n\u001b[1;32m    443\u001b[0m \u001b[38;5;28;01mdef\u001b[39;00m \u001b[38;5;21mconfigure_callback_exception_handling\u001b[39m(\u001b[38;5;28mself\u001b[39m, app, dev_tools_prune_errors):\n\u001b[1;32m    444\u001b[0m \u001b[38;5;250m    \u001b[39m\u001b[38;5;124;03m\"\"\"Install traceback handling for callbacks\"\"\"\u001b[39;00m\n\u001b[0;32m--> 446\u001b[0m     \u001b[38;5;129m@app\u001b[39m\u001b[38;5;241;43m.\u001b[39;49m\u001b[43mserver\u001b[49m\u001b[38;5;241;43m.\u001b[39;49m\u001b[43merrorhandler\u001b[49m\u001b[43m(\u001b[49m\u001b[38;5;167;43;01mException\u001b[39;49;00m\u001b[43m)\u001b[49m\n\u001b[1;32m    447\u001b[0m     \u001b[38;5;28;01mdef\u001b[39;00m \u001b[38;5;21m_wrap_errors\u001b[39m(error):\n\u001b[1;32m    448\u001b[0m         \u001b[38;5;66;03m# Compute number of stack frames to skip to get down to callback\u001b[39;00m\n\u001b[1;32m    449\u001b[0m         skip \u001b[38;5;241m=\u001b[39m _get_skip(error) \u001b[38;5;28;01mif\u001b[39;00m dev_tools_prune_errors \u001b[38;5;28;01melse\u001b[39;00m \u001b[38;5;241m0\u001b[39m\n\u001b[1;32m    451\u001b[0m         \u001b[38;5;66;03m# Customized formatargvalues function we can place function parameters\u001b[39;00m\n\u001b[1;32m    452\u001b[0m         \u001b[38;5;66;03m# on separate lines\u001b[39;00m\n",
      "File \u001b[0;32m~/Library/Python/3.9/lib/python/site-packages/flask/sansio/scaffold.py:46\u001b[0m, in \u001b[0;36msetupmethod.<locals>.wrapper_func\u001b[0;34m(self, *args, **kwargs)\u001b[0m\n\u001b[1;32m     45\u001b[0m \u001b[38;5;28;01mdef\u001b[39;00m \u001b[38;5;21mwrapper_func\u001b[39m(\u001b[38;5;28mself\u001b[39m: Scaffold, \u001b[38;5;241m*\u001b[39margs: t\u001b[38;5;241m.\u001b[39mAny, \u001b[38;5;241m*\u001b[39m\u001b[38;5;241m*\u001b[39mkwargs: t\u001b[38;5;241m.\u001b[39mAny) \u001b[38;5;241m-\u001b[39m\u001b[38;5;241m>\u001b[39m t\u001b[38;5;241m.\u001b[39mAny:\n\u001b[0;32m---> 46\u001b[0m     \u001b[38;5;28;43mself\u001b[39;49m\u001b[38;5;241;43m.\u001b[39;49m\u001b[43m_check_setup_finished\u001b[49m\u001b[43m(\u001b[49m\u001b[43mf_name\u001b[49m\u001b[43m)\u001b[49m\n\u001b[1;32m     47\u001b[0m     \u001b[38;5;28;01mreturn\u001b[39;00m f(\u001b[38;5;28mself\u001b[39m, \u001b[38;5;241m*\u001b[39margs, \u001b[38;5;241m*\u001b[39m\u001b[38;5;241m*\u001b[39mkwargs)\n",
      "File \u001b[0;32m~/Library/Python/3.9/lib/python/site-packages/flask/sansio/app.py:415\u001b[0m, in \u001b[0;36mApp._check_setup_finished\u001b[0;34m(self, f_name)\u001b[0m\n\u001b[1;32m    413\u001b[0m \u001b[38;5;28;01mdef\u001b[39;00m \u001b[38;5;21m_check_setup_finished\u001b[39m(\u001b[38;5;28mself\u001b[39m, f_name: \u001b[38;5;28mstr\u001b[39m) \u001b[38;5;241m-\u001b[39m\u001b[38;5;241m>\u001b[39m \u001b[38;5;28;01mNone\u001b[39;00m:\n\u001b[1;32m    414\u001b[0m     \u001b[38;5;28;01mif\u001b[39;00m \u001b[38;5;28mself\u001b[39m\u001b[38;5;241m.\u001b[39m_got_first_request:\n\u001b[0;32m--> 415\u001b[0m         \u001b[38;5;28;01mraise\u001b[39;00m \u001b[38;5;167;01mAssertionError\u001b[39;00m(\n\u001b[1;32m    416\u001b[0m             \u001b[38;5;124mf\u001b[39m\u001b[38;5;124m\"\u001b[39m\u001b[38;5;124mThe setup method \u001b[39m\u001b[38;5;124m'\u001b[39m\u001b[38;5;132;01m{\u001b[39;00mf_name\u001b[38;5;132;01m}\u001b[39;00m\u001b[38;5;124m'\u001b[39m\u001b[38;5;124m can no longer be called\u001b[39m\u001b[38;5;124m\"\u001b[39m\n\u001b[1;32m    417\u001b[0m             \u001b[38;5;124m\"\u001b[39m\u001b[38;5;124m on the application. It has already handled its first\u001b[39m\u001b[38;5;124m\"\u001b[39m\n\u001b[1;32m    418\u001b[0m             \u001b[38;5;124m\"\u001b[39m\u001b[38;5;124m request, any changes will not be applied\u001b[39m\u001b[38;5;124m\"\u001b[39m\n\u001b[1;32m    419\u001b[0m             \u001b[38;5;124m\"\u001b[39m\u001b[38;5;124m consistently.\u001b[39m\u001b[38;5;130;01m\\n\u001b[39;00m\u001b[38;5;124m\"\u001b[39m\n\u001b[1;32m    420\u001b[0m             \u001b[38;5;124m\"\u001b[39m\u001b[38;5;124mMake sure all imports, decorators, functions, etc.\u001b[39m\u001b[38;5;124m\"\u001b[39m\n\u001b[1;32m    421\u001b[0m             \u001b[38;5;124m\"\u001b[39m\u001b[38;5;124m needed to set up the application are done before\u001b[39m\u001b[38;5;124m\"\u001b[39m\n\u001b[1;32m    422\u001b[0m             \u001b[38;5;124m\"\u001b[39m\u001b[38;5;124m running it.\u001b[39m\u001b[38;5;124m\"\u001b[39m\n\u001b[1;32m    423\u001b[0m         )\n",
      "\u001b[0;31mAssertionError\u001b[0m: The setup method 'errorhandler' can no longer be called on the application. It has already handled its first request, any changes will not be applied consistently.\nMake sure all imports, decorators, functions, etc. needed to set up the application are done before running it."
     ]
    }
   ],
   "source": [
    "#start app (run once)\n",
    "if __name__ == '__main__':\n",
    "    app.title = \"Text summarization\"\n",
    "    app.run(debug=True)"
   ]
  },
  {
   "cell_type": "code",
   "execution_count": null,
   "metadata": {},
   "outputs": [],
   "source": []
  }
 ],
 "metadata": {
  "kernelspec": {
   "display_name": "Python 3",
   "language": "python",
   "name": "python3"
  },
  "language_info": {
   "codemirror_mode": {
    "name": "ipython",
    "version": 3
   },
   "file_extension": ".py",
   "mimetype": "text/x-python",
   "name": "python",
   "nbconvert_exporter": "python",
   "pygments_lexer": "ipython3",
   "version": "3.9.6"
  }
 },
 "nbformat": 4,
 "nbformat_minor": 2
}
